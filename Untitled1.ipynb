{
  "nbformat": 4,
  "nbformat_minor": 0,
  "metadata": {
    "colab": {
      "name": "Untitled1.ipynb",
      "provenance": [],
      "collapsed_sections": [],
      "authorship_tag": "ABX9TyPRGPtBxYEYhkqHZBeHdRup"
    },
    "kernelspec": {
      "name": "python3",
      "display_name": "Python 3"
    },
    "language_info": {
      "name": "python"
    }
  },
  "cells": [
    {
      "cell_type": "markdown",
      "metadata": {
        "id": "4HV0FmpsXz_5"
      },
      "source": [
        "# Анализ деятельности зарегестрированных гостей\n",
        "\n",
        "**Цель исследования**: изучить поведение гостей для выявления путей оптимизации деятельности компании.\n",
        "\n",
        "**Задачи проекта**:\n",
        "- Исследовать количество ставок пользователей;\n",
        "- Изучить зависимость посещений от уровня депозита и выигрыша;\n",
        "- Определить, какие клубы наиболее привлекательны для гостей;\n",
        "- Изучить выручку компании за рассматриваемый период.\n",
        "\n",
        "**Этапы исследования**:\n",
        "1. [Подготовка данных](#preanalysis)\n",
        "2. [Анализ данных](#analysis)\n",
        "    - [Исследование количества посещений](#visits)\n",
        "    - [Исследование ставок](#count)\n",
        "    - [Изучение наиболее популярных клубов](#popular_clubs)\n",
        "    - [Изучение выручки компании](#profit)\n",
        "3. [Вывод и рекомендации](#conclusion)"
      ]
    },
    {
      "cell_type": "markdown",
      "metadata": {
        "id": "DcG6X97cZ8if"
      },
      "source": [
        "## [Подготовка данных](#preanalysis)\n",
        "\n",
        "На этапе подготовки данных импортируем все необходимые для реализации проекта библиотеки и изучим данные таблицы."
      ]
    },
    {
      "cell_type": "code",
      "metadata": {
        "id": "9HqEmfDzTjZh"
      },
      "source": [
        "import pandas as pd\n",
        "import numpy as np\n",
        "from matplotlib import pyplot as plt\n",
        "from datetime import datetime\n",
        "import math\n",
        "import seaborn as sns\n",
        "from scipy.stats import norm\n",
        "from scipy import stats as st"
      ],
      "execution_count": 112,
      "outputs": []
    },
    {
      "cell_type": "code",
      "metadata": {
        "colab": {
          "base_uri": "https://localhost:8080/",
          "height": 238
        },
        "id": "Lw1MdMB3ToC_",
        "outputId": "e516f96e-3417-4114-ef94-658c477efa34"
      },
      "source": [
        "clients = pd.read_excel('/content/Новички_задание.xlsx')\n",
        "clients.head(5)"
      ],
      "execution_count": 113,
      "outputs": [
        {
          "output_type": "execute_result",
          "data": {
            "text/html": [
              "<div>\n",
              "<style scoped>\n",
              "    .dataframe tbody tr th:only-of-type {\n",
              "        vertical-align: middle;\n",
              "    }\n",
              "\n",
              "    .dataframe tbody tr th {\n",
              "        vertical-align: top;\n",
              "    }\n",
              "\n",
              "    .dataframe thead th {\n",
              "        text-align: right;\n",
              "    }\n",
              "</style>\n",
              "<table border=\"1\" class=\"dataframe\">\n",
              "  <thead>\n",
              "    <tr style=\"text-align: right;\">\n",
              "      <th></th>\n",
              "      <th>ID</th>\n",
              "      <th>Проигрыш (первое посещение)</th>\n",
              "      <th>IN (первое посещение)</th>\n",
              "      <th>Ставки за бонусы (первое посещение)</th>\n",
              "      <th>Депозит (первое посещение)</th>\n",
              "      <th>вывод средств (первое посещение)</th>\n",
              "      <th>1 day (день регистрации)</th>\n",
              "      <th>2 day (день второго визита в клуб)</th>\n",
              "      <th>max day (дата последнего визита)</th>\n",
              "      <th>Кол-во визитов (за все время, не считая 1й визит)</th>\n",
              "      <th>Проигрыш за все визиты</th>\n",
              "      <th>Ожидаемый проигрыш</th>\n",
              "      <th>№ клуба</th>\n",
              "    </tr>\n",
              "  </thead>\n",
              "  <tbody>\n",
              "    <tr>\n",
              "      <th>0</th>\n",
              "      <td>2430961840</td>\n",
              "      <td>8388000.0</td>\n",
              "      <td>25257600.0</td>\n",
              "      <td>0</td>\n",
              "      <td>8400000.0</td>\n",
              "      <td>12000.0</td>\n",
              "      <td>2021-02-02</td>\n",
              "      <td>2021-02-04</td>\n",
              "      <td>2021-03-09</td>\n",
              "      <td>19</td>\n",
              "      <td>19351152.0</td>\n",
              "      <td>1.733383e+07</td>\n",
              "      <td>1731</td>\n",
              "    </tr>\n",
              "    <tr>\n",
              "      <th>1</th>\n",
              "      <td>2457041912</td>\n",
              "      <td>1071050.0</td>\n",
              "      <td>7140850.0</td>\n",
              "      <td>0</td>\n",
              "      <td>1635250.0</td>\n",
              "      <td>465000.0</td>\n",
              "      <td>2020-10-26</td>\n",
              "      <td>2020-10-27</td>\n",
              "      <td>2020-11-30</td>\n",
              "      <td>3</td>\n",
              "      <td>554900.0</td>\n",
              "      <td>9.792799e+04</td>\n",
              "      <td>1700</td>\n",
              "    </tr>\n",
              "    <tr>\n",
              "      <th>2</th>\n",
              "      <td>2457572945</td>\n",
              "      <td>826800.0</td>\n",
              "      <td>2268210.0</td>\n",
              "      <td>600</td>\n",
              "      <td>856800.0</td>\n",
              "      <td>30000.0</td>\n",
              "      <td>2021-03-05</td>\n",
              "      <td>2021-03-07</td>\n",
              "      <td>2021-03-12</td>\n",
              "      <td>4</td>\n",
              "      <td>130560.0</td>\n",
              "      <td>4.050973e+05</td>\n",
              "      <td>70</td>\n",
              "    </tr>\n",
              "    <tr>\n",
              "      <th>3</th>\n",
              "      <td>2431814793</td>\n",
              "      <td>895900.0</td>\n",
              "      <td>3094265.0</td>\n",
              "      <td>0</td>\n",
              "      <td>1156300.0</td>\n",
              "      <td>260400.0</td>\n",
              "      <td>2020-08-18</td>\n",
              "      <td>2020-08-21</td>\n",
              "      <td>2021-02-01</td>\n",
              "      <td>11</td>\n",
              "      <td>188960.5</td>\n",
              "      <td>1.944108e+05</td>\n",
              "      <td>1227</td>\n",
              "    </tr>\n",
              "    <tr>\n",
              "      <th>4</th>\n",
              "      <td>2446261140</td>\n",
              "      <td>600000.0</td>\n",
              "      <td>1624920.0</td>\n",
              "      <td>0</td>\n",
              "      <td>600000.0</td>\n",
              "      <td>0.0</td>\n",
              "      <td>2020-12-06</td>\n",
              "      <td>2020-12-10</td>\n",
              "      <td>2021-02-05</td>\n",
              "      <td>6</td>\n",
              "      <td>-15654.0</td>\n",
              "      <td>-4.059306e+04</td>\n",
              "      <td>1823</td>\n",
              "    </tr>\n",
              "  </tbody>\n",
              "</table>\n",
              "</div>"
            ],
            "text/plain": [
              "           ID  Проигрыш (первое посещение)  ...  Ожидаемый проигрыш  № клуба\n",
              "0  2430961840                    8388000.0  ...        1.733383e+07     1731\n",
              "1  2457041912                    1071050.0  ...        9.792799e+04     1700\n",
              "2  2457572945                     826800.0  ...        4.050973e+05       70\n",
              "3  2431814793                     895900.0  ...        1.944108e+05     1227\n",
              "4  2446261140                     600000.0  ...       -4.059306e+04     1823\n",
              "\n",
              "[5 rows x 13 columns]"
            ]
          },
          "metadata": {
            "tags": []
          },
          "execution_count": 113
        }
      ]
    },
    {
      "cell_type": "code",
      "metadata": {
        "colab": {
          "base_uri": "https://localhost:8080/"
        },
        "id": "fA-srQ52XYB8",
        "outputId": "ac00a10d-7666-4cad-bcf2-b1081b1391d7"
      },
      "source": [
        "clients.isna().mean().round(3)"
      ],
      "execution_count": 114,
      "outputs": [
        {
          "output_type": "execute_result",
          "data": {
            "text/plain": [
              "ID                                                   0.000\n",
              "Проигрыш (первое посещение)                          0.000\n",
              "IN (первое посещение)                                0.000\n",
              "Ставки за бонусы (первое посещение)                  0.000\n",
              "Депозит (первое посещение)                           0.000\n",
              "вывод средств (первое посещение)                     0.000\n",
              "1 day (день регистрации)                             0.000\n",
              "2 day (день второго визита в клуб)                   0.573\n",
              "max day (дата последнего визита)                     0.573\n",
              "Кол-во визитов (за все время, не считая 1й визит)    0.000\n",
              "Проигрыш за все визиты                               0.000\n",
              "Ожидаемый проигрыш                                   0.000\n",
              "№ клуба                                              0.000\n",
              "dtype: float64"
            ]
          },
          "metadata": {
            "tags": []
          },
          "execution_count": 114
        }
      ]
    },
    {
      "cell_type": "code",
      "metadata": {
        "colab": {
          "base_uri": "https://localhost:8080/"
        },
        "id": "74BUh3keXeNr",
        "outputId": "a52127c6-9e58-45b8-e0db-9cc0b8617abc"
      },
      "source": [
        "clients.duplicated().mean().round(3)"
      ],
      "execution_count": 115,
      "outputs": [
        {
          "output_type": "execute_result",
          "data": {
            "text/plain": [
              "0.0"
            ]
          },
          "metadata": {
            "tags": []
          },
          "execution_count": 115
        }
      ]
    },
    {
      "cell_type": "code",
      "metadata": {
        "colab": {
          "base_uri": "https://localhost:8080/"
        },
        "id": "BlMxMeCAXolw",
        "outputId": "df6079bf-0657-4f0b-b8a9-23785bf297a7"
      },
      "source": [
        "clients.info()"
      ],
      "execution_count": 116,
      "outputs": [
        {
          "output_type": "stream",
          "text": [
            "<class 'pandas.core.frame.DataFrame'>\n",
            "RangeIndex: 83038 entries, 0 to 83037\n",
            "Data columns (total 13 columns):\n",
            " #   Column                                             Non-Null Count  Dtype         \n",
            "---  ------                                             --------------  -----         \n",
            " 0   ID                                                 83038 non-null  int64         \n",
            " 1   Проигрыш (первое посещение)                        83038 non-null  float64       \n",
            " 2   IN (первое посещение)                              83038 non-null  float64       \n",
            " 3   Ставки за бонусы (первое посещение)                83038 non-null  int64         \n",
            " 4   Депозит (первое посещение)                         83038 non-null  float64       \n",
            " 5   вывод средств (первое посещение)                   83038 non-null  float64       \n",
            " 6   1 day (день регистрации)                           83038 non-null  datetime64[ns]\n",
            " 7   2 day (день второго визита в клуб)                 35431 non-null  datetime64[ns]\n",
            " 8   max day (дата последнего визита)                   35431 non-null  datetime64[ns]\n",
            " 9   Кол-во визитов (за все время, не считая 1й визит)  83038 non-null  int64         \n",
            " 10  Проигрыш за все визиты                             83038 non-null  float64       \n",
            " 11  Ожидаемый проигрыш                                 83038 non-null  float64       \n",
            " 12  № клуба                                            83038 non-null  int64         \n",
            "dtypes: datetime64[ns](3), float64(6), int64(4)\n",
            "memory usage: 8.2 MB\n"
          ],
          "name": "stdout"
        }
      ]
    },
    {
      "cell_type": "markdown",
      "metadata": {
        "id": "n_8UbA9na2Q6"
      },
      "source": [
        "Пропущенные значения в столбцах второго дня посещения клуба и даты последнего визита скорее всего означают, что первый визит в клуб был последним. Таких визитов 57,3%. "
      ]
    },
    {
      "cell_type": "code",
      "metadata": {
        "id": "qr96O6HSXwea"
      },
      "source": [
        "clients['max day (дата последнего визита)'] = clients['max day (дата последнего визита)'].fillna(clients['1 day (день регистрации)'])\n",
        "\n",
        "dateusers = datetime(1999,1,1)\n",
        "clients['2 day (день второго визита в клуб)'] = clients['2 day (день второго визита в клуб)'].fillna(dateusers)\n",
        "clients['№ клуба'] = clients['№ клуба'].astype('str')"
      ],
      "execution_count": 117,
      "outputs": []
    },
    {
      "cell_type": "markdown",
      "metadata": {
        "id": "A-DX6N8rH3uC"
      },
      "source": [
        "Пропусков и дублей в данных нет, типы данных приведены к нужному формату.\n",
        "\n",
        "## [Анализ данных](#analysis)\n",
        "\n",
        "**[Исследование количества посещений](#visits)**\n",
        "\n",
        "На этом этапе проведем анализ посещений клубов, отталкиваясь от количества гостей.\n",
        "\n"
      ]
    },
    {
      "cell_type": "code",
      "metadata": {
        "colab": {
          "base_uri": "https://localhost:8080/",
          "height": 404
        },
        "id": "eyLliAudQCAH",
        "outputId": "ad071c7b-a696-4f3f-c683-745fd0f387ad"
      },
      "source": [
        "clients['all_visits'] = (clients['Кол-во визитов (за все время, не считая 1й визит)']+1)\n",
        "\n",
        "plt.hist(clients['all_visits'], bins=20)\n",
        "plt.rcParams[\"figure.figsize\"] = (12,6)\n",
        "plt.title('Распределение количества визитов')\n",
        "plt.xlabel(\"Кол-во визитов\")\n",
        "plt.ylabel(\"Клиенты, чел.\")\n",
        "plt.show() "
      ],
      "execution_count": 118,
      "outputs": [
        {
          "output_type": "display_data",
          "data": {
            "image/png": "[encoded data removed]",
            "text/plain": [
              "<Figure size 864x432 with 1 Axes>"
            ]
          },
          "metadata": {
            "tags": []
          }
        }
      ]
    },
    {
      "cell_type": "code",
      "metadata": {
        "colab": {
          "base_uri": "https://localhost:8080/"
        },
        "id": "47rCXa1QUQ5K",
        "outputId": "90aa8b22-233b-472a-941a-1b7d3fa27909"
      },
      "source": [
        "print(np.percentile(clients['all_visits'], [90, 99])) "
      ],
      "execution_count": 119,
      "outputs": [
        {
          "output_type": "stream",
          "text": [
            "[10. 63.]\n"
          ],
          "name": "stdout"
        }
      ]
    },
    {
      "cell_type": "markdown",
      "metadata": {
        "id": "oT9aq9QiURjs"
      },
      "source": [
        "В основном гости совершают 1-5 визитов, только 10% совершили больше 10 визитов и 1% всех клиентов больше 60, т.е. в общей массе гости посещают клубы достаточно нерегулярно.\n",
        "\n",
        "Посмотрим на распредление посещений клубов по месяцам.\n"
      ]
    },
    {
      "cell_type": "code",
      "metadata": {
        "id": "1Y4akCLERlwS"
      },
      "source": [
        "clients['last_visit_month'] = clients['max day (дата последнего визита)'].dt.strftime('%Y-%m')\n",
        "visit_monthly = clients.groupby('last_visit_month').agg({'all_visits':'sum', 'ID':'count'}).reset_index()\n",
        "visit_monthly.columns = ['last_visit_month','all_visits', 'all_clients']\n",
        "\n",
        "visit_monthly['avg_visits'] = (visit_monthly['all_visits'] / visit_monthly['all_clients']).round(2)"
      ],
      "execution_count": 120,
      "outputs": []
    },
    {
      "cell_type": "code",
      "metadata": {
        "colab": {
          "base_uri": "https://localhost:8080/",
          "height": 328
        },
        "id": "XUOHEhXRQCU9",
        "outputId": "0d50c77e-10db-4f53-87d2-4ba3d832aa13"
      },
      "source": [
        "visit_monthly"
      ],
      "execution_count": 121,
      "outputs": [
        {
          "output_type": "execute_result",
          "data": {
            "text/html": [
              "<div>\n",
              "<style scoped>\n",
              "    .dataframe tbody tr th:only-of-type {\n",
              "        vertical-align: middle;\n",
              "    }\n",
              "\n",
              "    .dataframe tbody tr th {\n",
              "        vertical-align: top;\n",
              "    }\n",
              "\n",
              "    .dataframe thead th {\n",
              "        text-align: right;\n",
              "    }\n",
              "</style>\n",
              "<table border=\"1\" class=\"dataframe\">\n",
              "  <thead>\n",
              "    <tr style=\"text-align: right;\">\n",
              "      <th></th>\n",
              "      <th>last_visit_month</th>\n",
              "      <th>all_visits</th>\n",
              "      <th>all_clients</th>\n",
              "      <th>avg_visits</th>\n",
              "    </tr>\n",
              "  </thead>\n",
              "  <tbody>\n",
              "    <tr>\n",
              "      <th>0</th>\n",
              "      <td>2020-07</td>\n",
              "      <td>4616</td>\n",
              "      <td>3476</td>\n",
              "      <td>1.33</td>\n",
              "    </tr>\n",
              "    <tr>\n",
              "      <th>1</th>\n",
              "      <td>2020-08</td>\n",
              "      <td>10885</td>\n",
              "      <td>6330</td>\n",
              "      <td>1.72</td>\n",
              "    </tr>\n",
              "    <tr>\n",
              "      <th>2</th>\n",
              "      <td>2020-09</td>\n",
              "      <td>15738</td>\n",
              "      <td>7817</td>\n",
              "      <td>2.01</td>\n",
              "    </tr>\n",
              "    <tr>\n",
              "      <th>3</th>\n",
              "      <td>2020-10</td>\n",
              "      <td>20629</td>\n",
              "      <td>9099</td>\n",
              "      <td>2.27</td>\n",
              "    </tr>\n",
              "    <tr>\n",
              "      <th>4</th>\n",
              "      <td>2020-11</td>\n",
              "      <td>22835</td>\n",
              "      <td>8815</td>\n",
              "      <td>2.59</td>\n",
              "    </tr>\n",
              "    <tr>\n",
              "      <th>5</th>\n",
              "      <td>2020-12</td>\n",
              "      <td>30408</td>\n",
              "      <td>10138</td>\n",
              "      <td>3.00</td>\n",
              "    </tr>\n",
              "    <tr>\n",
              "      <th>6</th>\n",
              "      <td>2021-01</td>\n",
              "      <td>37156</td>\n",
              "      <td>11108</td>\n",
              "      <td>3.34</td>\n",
              "    </tr>\n",
              "    <tr>\n",
              "      <th>7</th>\n",
              "      <td>2021-02</td>\n",
              "      <td>69852</td>\n",
              "      <td>14132</td>\n",
              "      <td>4.94</td>\n",
              "    </tr>\n",
              "    <tr>\n",
              "      <th>8</th>\n",
              "      <td>2021-03</td>\n",
              "      <td>191907</td>\n",
              "      <td>12123</td>\n",
              "      <td>15.83</td>\n",
              "    </tr>\n",
              "  </tbody>\n",
              "</table>\n",
              "</div>"
            ],
            "text/plain": [
              "  last_visit_month  all_visits  all_clients  avg_visits\n",
              "0          2020-07        4616         3476        1.33\n",
              "1          2020-08       10885         6330        1.72\n",
              "2          2020-09       15738         7817        2.01\n",
              "3          2020-10       20629         9099        2.27\n",
              "4          2020-11       22835         8815        2.59\n",
              "5          2020-12       30408        10138        3.00\n",
              "6          2021-01       37156        11108        3.34\n",
              "7          2021-02       69852        14132        4.94\n",
              "8          2021-03      191907        12123       15.83"
            ]
          },
          "metadata": {
            "tags": []
          },
          "execution_count": 121
        }
      ]
    },
    {
      "cell_type": "code",
      "metadata": {
        "colab": {
          "base_uri": "https://localhost:8080/",
          "height": 1000
        },
        "id": "djgJu7GjQCZO",
        "outputId": "45305252-a9f4-49d3-db48-465e2b8c12a0"
      },
      "source": [
        "columns = ['all_clients', 'avg_visits', 'all_visits']\n",
        "\n",
        "for column in columns:\n",
        "  (visit_monthly\n",
        "     .pivot_table(index='last_visit_month', values=column)\n",
        "     .plot(figsize=(16,6), title=column)\n",
        "  );\n",
        "  plt.show()\n",
        "  plt.close()"
      ],
      "execution_count": 122,
      "outputs": [
        {
          "output_type": "display_data",
          "data": {
            "image/png": "[encoded data removed]",
            "text/plain": [
              "<Figure size 1152x432 with 1 Axes>"
            ]
          },
          "metadata": {
            "tags": []
          }
        },
        {
          "output_type": "display_data",
          "data": {
            "image/png": "[encoded data removed]",
            "text/plain": [
              "<Figure size 1152x432 with 1 Axes>"
            ]
          },
          "metadata": {
            "tags": []
          }
        },
        {
          "output_type": "display_data",
          "data": {
            "image/png": "[encoded data removed]",
            "text/plain": [
              "<Figure size 1152x432 with 1 Axes>"
            ]
          },
          "metadata": {
            "tags": []
          }
        }
      ]
    },
    {
      "cell_type": "markdown",
      "metadata": {
        "id": "OmepKPjbhesU"
      },
      "source": [
        "Общая динамика по показателям всех визитов и среднего количества гостей - резкий скачок с февраля 2021 по март 2021. В целом эти показатели росли ежемесячно. График по количеству клиентов также имеет тенденцию к росту, пик был в феврале 2021 и это, скорее всего, это и есть причина роста визитов с февраля по март. В марте произошел отток гостей. Скорее всего на рост визитов повлияли Чемпионаты, проводившиеся в это время, а именно: биатлон, лыжные гонки и фигурное катание.\n",
        "\n",
        "Посмотрим, сколько дней составляет lifetime гостей клубов."
      ]
    },
    {
      "cell_type": "code",
      "metadata": {
        "colab": {
          "base_uri": "https://localhost:8080/",
          "height": 405
        },
        "id": "nVyeFlv4wyYX",
        "outputId": "01a9991b-e131-454f-b25c-f2375a83b967"
      },
      "source": [
        "clients['lifetime'] = (clients['max day (дата последнего визита)']- clients['1 day (день регистрации)']) / np.timedelta64(1, 'D')\n",
        "clients['lifetime'] = clients['lifetime'].astype('int')\n",
        "sns.kdeplot(clients['lifetime'], shade=True)"
      ],
      "execution_count": 123,
      "outputs": [
        {
          "output_type": "execute_result",
          "data": {
            "text/plain": [
              "<matplotlib.axes._subplots.AxesSubplot at 0x7f1f56b61b50>"
            ]
          },
          "metadata": {
            "tags": []
          },
          "execution_count": 123
        },
        {
          "output_type": "display_data",
          "data": {
            "image/png": "[encoded data removed]",
            "text/plain": [
              "<Figure size 864x432 with 1 Axes>"
            ]
          },
          "metadata": {
            "tags": []
          }
        }
      ]
    },
    {
      "cell_type": "code",
      "metadata": {
        "colab": {
          "base_uri": "https://localhost:8080/"
        },
        "id": "z0018MAZFBny",
        "outputId": "605be4e4-8482-4f75-cc5c-1fea8c6e26a1"
      },
      "source": [
        "clients['lifetime'].describe()"
      ],
      "execution_count": 124,
      "outputs": [
        {
          "output_type": "execute_result",
          "data": {
            "text/plain": [
              "count    83038.000000\n",
              "mean        24.375828\n",
              "std         48.515961\n",
              "min          0.000000\n",
              "25%          0.000000\n",
              "50%          0.000000\n",
              "75%         22.000000\n",
              "max        254.000000\n",
              "Name: lifetime, dtype: float64"
            ]
          },
          "metadata": {
            "tags": []
          },
          "execution_count": 124
        }
      ]
    },
    {
      "cell_type": "markdown",
      "metadata": {
        "id": "Y0fDOvttFCLh"
      },
      "source": [
        "Половина всех гостей клуба не прходит повторно. "
      ]
    },
    {
      "cell_type": "markdown",
      "metadata": {
        "id": "uzl0WQYfjqHJ"
      },
      "source": [
        "**[Исследование количества ставок](#count)**\n",
        "\n",
        "На этом этапе проведем анализ ставок, отталкиваясь от их количества.\n"
      ]
    },
    {
      "cell_type": "code",
      "metadata": {
        "id": "rj2t5aUwyOm4"
      },
      "source": [
        "clients['first_visit_month'] = clients['1 day (день регистрации)'].dt.strftime('%Y-%m')"
      ],
      "execution_count": 125,
      "outputs": []
    },
    {
      "cell_type": "code",
      "metadata": {
        "colab": {
          "base_uri": "https://localhost:8080/",
          "height": 328
        },
        "id": "f-1wmA9LvW0x",
        "outputId": "cc522c6c-0f12-44d4-b9cb-051a4c8ebe7d"
      },
      "source": [
        "bet_clients = clients.groupby('first_visit_month').agg({'Ставки за бонусы (первое посещение)':'sum', 'ID':'count', 'all_visits':'sum'}).reset_index()\n",
        "bet_clients['bonusbet_per_client'] = (bet_clients['Ставки за бонусы (первое посещение)'] / bet_clients['ID']).round(2)\n",
        "bet_clients"
      ],
      "execution_count": 126,
      "outputs": [
        {
          "output_type": "execute_result",
          "data": {
            "text/html": [
              "<div>\n",
              "<style scoped>\n",
              "    .dataframe tbody tr th:only-of-type {\n",
              "        vertical-align: middle;\n",
              "    }\n",
              "\n",
              "    .dataframe tbody tr th {\n",
              "        vertical-align: top;\n",
              "    }\n",
              "\n",
              "    .dataframe thead th {\n",
              "        text-align: right;\n",
              "    }\n",
              "</style>\n",
              "<table border=\"1\" class=\"dataframe\">\n",
              "  <thead>\n",
              "    <tr style=\"text-align: right;\">\n",
              "      <th></th>\n",
              "      <th>first_visit_month</th>\n",
              "      <th>Ставки за бонусы (первое посещение)</th>\n",
              "      <th>ID</th>\n",
              "      <th>all_visits</th>\n",
              "      <th>bonusbet_per_client</th>\n",
              "    </tr>\n",
              "  </thead>\n",
              "  <tbody>\n",
              "    <tr>\n",
              "      <th>0</th>\n",
              "      <td>2020-07</td>\n",
              "      <td>1328970</td>\n",
              "      <td>6235</td>\n",
              "      <td>55982</td>\n",
              "      <td>213.15</td>\n",
              "    </tr>\n",
              "    <tr>\n",
              "      <th>1</th>\n",
              "      <td>2020-08</td>\n",
              "      <td>2231000</td>\n",
              "      <td>9443</td>\n",
              "      <td>70657</td>\n",
              "      <td>236.26</td>\n",
              "    </tr>\n",
              "    <tr>\n",
              "      <th>2</th>\n",
              "      <td>2020-09</td>\n",
              "      <td>2979000</td>\n",
              "      <td>10068</td>\n",
              "      <td>61418</td>\n",
              "      <td>295.89</td>\n",
              "    </tr>\n",
              "    <tr>\n",
              "      <th>3</th>\n",
              "      <td>2020-10</td>\n",
              "      <td>3158625</td>\n",
              "      <td>10827</td>\n",
              "      <td>56287</td>\n",
              "      <td>291.74</td>\n",
              "    </tr>\n",
              "    <tr>\n",
              "      <th>4</th>\n",
              "      <td>2020-11</td>\n",
              "      <td>3625175</td>\n",
              "      <td>9815</td>\n",
              "      <td>45843</td>\n",
              "      <td>369.35</td>\n",
              "    </tr>\n",
              "    <tr>\n",
              "      <th>5</th>\n",
              "      <td>2020-12</td>\n",
              "      <td>4423580</td>\n",
              "      <td>10697</td>\n",
              "      <td>43722</td>\n",
              "      <td>413.53</td>\n",
              "    </tr>\n",
              "    <tr>\n",
              "      <th>6</th>\n",
              "      <td>2021-01</td>\n",
              "      <td>4902450</td>\n",
              "      <td>10964</td>\n",
              "      <td>37511</td>\n",
              "      <td>447.14</td>\n",
              "    </tr>\n",
              "    <tr>\n",
              "      <th>7</th>\n",
              "      <td>2021-02</td>\n",
              "      <td>4732295</td>\n",
              "      <td>11104</td>\n",
              "      <td>26938</td>\n",
              "      <td>426.18</td>\n",
              "    </tr>\n",
              "    <tr>\n",
              "      <th>8</th>\n",
              "      <td>2021-03</td>\n",
              "      <td>1554290</td>\n",
              "      <td>3885</td>\n",
              "      <td>5668</td>\n",
              "      <td>400.07</td>\n",
              "    </tr>\n",
              "  </tbody>\n",
              "</table>\n",
              "</div>"
            ],
            "text/plain": [
              "  first_visit_month  ...  bonusbet_per_client\n",
              "0           2020-07  ...               213.15\n",
              "1           2020-08  ...               236.26\n",
              "2           2020-09  ...               295.89\n",
              "3           2020-10  ...               291.74\n",
              "4           2020-11  ...               369.35\n",
              "5           2020-12  ...               413.53\n",
              "6           2021-01  ...               447.14\n",
              "7           2021-02  ...               426.18\n",
              "8           2021-03  ...               400.07\n",
              "\n",
              "[9 rows x 5 columns]"
            ]
          },
          "metadata": {
            "tags": []
          },
          "execution_count": 126
        }
      ]
    },
    {
      "cell_type": "code",
      "metadata": {
        "colab": {
          "base_uri": "https://localhost:8080/",
          "height": 498
        },
        "id": "o2mK7NHBwyTe",
        "outputId": "cb3b71bf-20f2-49ad-a756-b3100bf72847"
      },
      "source": [
        "def top10(data, x, y):\n",
        "  plt.figure(figsize=(16,8))\n",
        "  sns.set_palette('muted') \n",
        "  sns.set_style(\"whitegrid\")\n",
        "  ax = sns.barplot(data=data, y=y, x=x)\n",
        "  ax.set_ylabel(y)\n",
        "  ax.set_xlabel(x)\n",
        "  plt.show()\n",
        "  plt.close()\n",
        "  \n",
        "top10(data=bet_clients, x=\"bonusbet_per_client\", y=\"first_visit_month\")"
      ],
      "execution_count": 127,
      "outputs": [
        {
          "output_type": "display_data",
          "data": {
            "image/png": "[encoded data removed]",
            "text/plain": [
              "<Figure size 1152x576 with 1 Axes>"
            ]
          },
          "metadata": {
            "tags": []
          }
        }
      ]
    },
    {
      "cell_type": "code",
      "metadata": {
        "colab": {
          "base_uri": "https://localhost:8080/"
        },
        "id": "yfLYykpVz8LK",
        "outputId": "bf61095e-338f-41fb-a8a0-6c41a0399962"
      },
      "source": [
        "bet_clients['bonusbet_per_client'].mean()"
      ],
      "execution_count": 128,
      "outputs": [
        {
          "output_type": "execute_result",
          "data": {
            "text/plain": [
              "343.7011111111111"
            ]
          },
          "metadata": {
            "tags": []
          },
          "execution_count": 128
        }
      ]
    },
    {
      "cell_type": "markdown",
      "metadata": {
        "id": "jo4qYKbYy00G"
      },
      "source": [
        "Больше всего ставок за бонусы было сделано в январе 2021, меньше всего - в июне 2020. В среднем на одного гостя приходится 344 руб. ставок за бонусы. Возможно была какая-то предновогодняя акция потому что с декабря начался рост, который пошел на спад в феврвле, в марте показатель ставок за бонусные рубли был меньше, чем в декабре.\n",
        "\n",
        "**[Изучение наиболее популярных клубов](#popular_clubs)**\n",
        "\n",
        "В данных были ошибки в указании номера клуба, т.к. был указан не один номер, а список. В excel разделили по столбцам текст и для анализа используем только первый указный клуб. В дальнейшем тоит уточнить, что именно имелось в виду под списоком клубов."
      ]
    },
    {
      "cell_type": "code",
      "metadata": {
        "id": "okY-mAWmMSjl"
      },
      "source": [
        "popular_club = pd.DataFrame(clients.groupby('№ клуба').agg({'Проигрыш за все визиты':'sum', 'Депозит (первое посещение)':'sum','ID':'count', 'all_visits':'sum'}).reset_index())\n",
        "popular_club.columns = ['club', 'lost', 'deposit', 'all_clients', 'all_visits']\n",
        "popular_club['deposit'] = popular_club['deposit'].astype('int')\n",
        "popular_club['lost'] = popular_club['lost'].astype('int')\n",
        "popular_club['lost_per_client'] = (popular_club['lost']/popular_club['all_clients']).round(2)\n",
        "popular_club['deposit_per_client'] = (popular_club['deposit']/popular_club['all_clients']).round(2)\n",
        "popular_club['avg_visits'] = (popular_club['all_visits']/popular_club['all_clients']).round(2)\n",
        "popular_club_head = popular_club.sort_values(by='all_visits', ascending=False).head(10)"
      ],
      "execution_count": 129,
      "outputs": []
    },
    {
      "cell_type": "code",
      "metadata": {
        "colab": {
          "base_uri": "https://localhost:8080/",
          "height": 978
        },
        "id": "1Oqg_bTqOlVf",
        "outputId": "87d255a6-f09b-4f40-c60a-7a5edd36bda4"
      },
      "source": [
        "top10(data=popular_club_head, y=\"deposit_per_client\", x=\"club\")\n",
        "top10(data=popular_club_head, y=\"lost_per_client\", x=\"club\")"
      ],
      "execution_count": 130,
      "outputs": [
        {
          "output_type": "display_data",
          "data": {
            "image/png": "[encoded data removed]",
            "text/plain": [
              "<Figure size 1152x576 with 1 Axes>"
            ]
          },
          "metadata": {
            "tags": []
          }
        },
        {
          "output_type": "display_data",
          "data": {
            "image/png": "[encoded data removed]",
            "text/plain": [
              "<Figure size 1152x576 with 1 Axes>"
            ]
          },
          "metadata": {
            "tags": []
          }
        }
      ]
    },
    {
      "cell_type": "markdown",
      "metadata": {
        "id": "UxoSF1rfqhhW"
      },
      "source": [
        "Среди самых посещаемых клубов больше всего величины депозита и проигрыша - в клубах 1610, 1696, 1737 и 1489. Самый большой проигрыш в расчете на одного гостя - в клубе 1701, но депозиты там не самые высокие."
      ]
    },
    {
      "cell_type": "code",
      "metadata": {
        "colab": {
          "base_uri": "https://localhost:8080/",
          "height": 359
        },
        "id": "8mLxwfEsSiUP",
        "outputId": "ac1eb0dd-5f04-4d94-f5a3-0841da3ca49e"
      },
      "source": [
        "top10_lost_club = popular_club.sort_values(by='lost', ascending=False).head(10)\n",
        "top10_lost_club"
      ],
      "execution_count": 131,
      "outputs": [
        {
          "output_type": "execute_result",
          "data": {
            "text/html": [
              "<div>\n",
              "<style scoped>\n",
              "    .dataframe tbody tr th:only-of-type {\n",
              "        vertical-align: middle;\n",
              "    }\n",
              "\n",
              "    .dataframe tbody tr th {\n",
              "        vertical-align: top;\n",
              "    }\n",
              "\n",
              "    .dataframe thead th {\n",
              "        text-align: right;\n",
              "    }\n",
              "</style>\n",
              "<table border=\"1\" class=\"dataframe\">\n",
              "  <thead>\n",
              "    <tr style=\"text-align: right;\">\n",
              "      <th></th>\n",
              "      <th>club</th>\n",
              "      <th>lost</th>\n",
              "      <th>deposit</th>\n",
              "      <th>all_clients</th>\n",
              "      <th>all_visits</th>\n",
              "      <th>lost_per_client</th>\n",
              "      <th>deposit_per_client</th>\n",
              "      <th>avg_visits</th>\n",
              "    </tr>\n",
              "  </thead>\n",
              "  <tbody>\n",
              "    <tr>\n",
              "      <th>192</th>\n",
              "      <td>1701</td>\n",
              "      <td>24727132</td>\n",
              "      <td>2258083</td>\n",
              "      <td>737</td>\n",
              "      <td>3503</td>\n",
              "      <td>33551.06</td>\n",
              "      <td>3063.88</td>\n",
              "      <td>4.75</td>\n",
              "    </tr>\n",
              "    <tr>\n",
              "      <th>212</th>\n",
              "      <td>1731</td>\n",
              "      <td>22774297</td>\n",
              "      <td>11738717</td>\n",
              "      <td>418</td>\n",
              "      <td>2075</td>\n",
              "      <td>54483.96</td>\n",
              "      <td>28083.06</td>\n",
              "      <td>4.96</td>\n",
              "    </tr>\n",
              "    <tr>\n",
              "      <th>189</th>\n",
              "      <td>1696</td>\n",
              "      <td>15392723</td>\n",
              "      <td>4446582</td>\n",
              "      <td>674</td>\n",
              "      <td>5183</td>\n",
              "      <td>22837.87</td>\n",
              "      <td>6597.30</td>\n",
              "      <td>7.69</td>\n",
              "    </tr>\n",
              "    <tr>\n",
              "      <th>222</th>\n",
              "      <td>1747</td>\n",
              "      <td>15181146</td>\n",
              "      <td>1337432</td>\n",
              "      <td>257</td>\n",
              "      <td>1880</td>\n",
              "      <td>59070.61</td>\n",
              "      <td>5204.02</td>\n",
              "      <td>7.32</td>\n",
              "    </tr>\n",
              "    <tr>\n",
              "      <th>153</th>\n",
              "      <td>1610</td>\n",
              "      <td>15129397</td>\n",
              "      <td>5427610</td>\n",
              "      <td>490</td>\n",
              "      <td>4062</td>\n",
              "      <td>30876.32</td>\n",
              "      <td>11076.76</td>\n",
              "      <td>8.29</td>\n",
              "    </tr>\n",
              "    <tr>\n",
              "      <th>207</th>\n",
              "      <td>1721</td>\n",
              "      <td>14897132</td>\n",
              "      <td>799258</td>\n",
              "      <td>158</td>\n",
              "      <td>1387</td>\n",
              "      <td>94285.65</td>\n",
              "      <td>5058.59</td>\n",
              "      <td>8.78</td>\n",
              "    </tr>\n",
              "    <tr>\n",
              "      <th>359</th>\n",
              "      <td>88</td>\n",
              "      <td>12471488</td>\n",
              "      <td>1461927</td>\n",
              "      <td>285</td>\n",
              "      <td>2014</td>\n",
              "      <td>43759.61</td>\n",
              "      <td>5129.57</td>\n",
              "      <td>7.07</td>\n",
              "    </tr>\n",
              "    <tr>\n",
              "      <th>41</th>\n",
              "      <td>1229</td>\n",
              "      <td>12306616</td>\n",
              "      <td>5009111</td>\n",
              "      <td>468</td>\n",
              "      <td>2432</td>\n",
              "      <td>26296.19</td>\n",
              "      <td>10703.23</td>\n",
              "      <td>5.20</td>\n",
              "    </tr>\n",
              "    <tr>\n",
              "      <th>379</th>\n",
              "      <td>995</td>\n",
              "      <td>10986857</td>\n",
              "      <td>1891429</td>\n",
              "      <td>450</td>\n",
              "      <td>1442</td>\n",
              "      <td>24415.24</td>\n",
              "      <td>4203.18</td>\n",
              "      <td>3.20</td>\n",
              "    </tr>\n",
              "    <tr>\n",
              "      <th>142</th>\n",
              "      <td>1582</td>\n",
              "      <td>10953953</td>\n",
              "      <td>710910</td>\n",
              "      <td>162</td>\n",
              "      <td>1062</td>\n",
              "      <td>67616.99</td>\n",
              "      <td>4388.33</td>\n",
              "      <td>6.56</td>\n",
              "    </tr>\n",
              "  </tbody>\n",
              "</table>\n",
              "</div>"
            ],
            "text/plain": [
              "     club      lost   deposit  ...  lost_per_client  deposit_per_client  avg_visits\n",
              "192  1701  24727132   2258083  ...         33551.06             3063.88        4.75\n",
              "212  1731  22774297  11738717  ...         54483.96            28083.06        4.96\n",
              "189  1696  15392723   4446582  ...         22837.87             6597.30        7.69\n",
              "222  1747  15181146   1337432  ...         59070.61             5204.02        7.32\n",
              "153  1610  15129397   5427610  ...         30876.32            11076.76        8.29\n",
              "207  1721  14897132    799258  ...         94285.65             5058.59        8.78\n",
              "359    88  12471488   1461927  ...         43759.61             5129.57        7.07\n",
              "41   1229  12306616   5009111  ...         26296.19            10703.23        5.20\n",
              "379   995  10986857   1891429  ...         24415.24             4203.18        3.20\n",
              "142  1582  10953953    710910  ...         67616.99             4388.33        6.56\n",
              "\n",
              "[10 rows x 8 columns]"
            ]
          },
          "metadata": {
            "tags": []
          },
          "execution_count": 131
        }
      ]
    },
    {
      "cell_type": "code",
      "metadata": {
        "colab": {
          "base_uri": "https://localhost:8080/",
          "height": 977
        },
        "id": "4Xb5GD-bmMl4",
        "outputId": "5e210d6d-8958-4269-ec4b-d6b3b3e3ac96"
      },
      "source": [
        "top10(data=top10_lost_club, y=\"deposit_per_client\", x=\"club\")\n",
        "top10(data=top10_lost_club, y=\"lost_per_client\", x=\"club\")"
      ],
      "execution_count": 132,
      "outputs": [
        {
          "output_type": "display_data",
          "data": {
            "image/png": "[encoded data removed]",
            "text/plain": [
              "<Figure size 1152x576 with 1 Axes>"
            ]
          },
          "metadata": {
            "tags": []
          }
        },
        {
          "output_type": "display_data",
          "data": {
            "image/png": "[encoded data removed]",
            "text/plain": [
              "<Figure size 1152x576 with 1 Axes>"
            ]
          },
          "metadata": {
            "tags": []
          }
        }
      ]
    },
    {
      "cell_type": "markdown",
      "metadata": {
        "id": "14xcjzmxqtQM"
      },
      "source": [
        "Больше всего проигрышей в клубах 1731, 1721, 1747, 1582. В самых популярных клубах по критерию проигрыша - больше всего депозиты в расчете на одного гостя в клубах 1731, 1610 и 1229."
      ]
    },
    {
      "cell_type": "code",
      "metadata": {
        "colab": {
          "base_uri": "https://localhost:8080/",
          "height": 359
        },
        "id": "z86UNZ5foSr3",
        "outputId": "edc35ca0-c1e8-47b7-e426-5a9937011c67"
      },
      "source": [
        "top10_deposit_club = popular_club.sort_values(by='deposit', ascending=False).head(10)\n",
        "top10_deposit_club"
      ],
      "execution_count": 133,
      "outputs": [
        {
          "output_type": "execute_result",
          "data": {
            "text/html": [
              "<div>\n",
              "<style scoped>\n",
              "    .dataframe tbody tr th:only-of-type {\n",
              "        vertical-align: middle;\n",
              "    }\n",
              "\n",
              "    .dataframe tbody tr th {\n",
              "        vertical-align: top;\n",
              "    }\n",
              "\n",
              "    .dataframe thead th {\n",
              "        text-align: right;\n",
              "    }\n",
              "</style>\n",
              "<table border=\"1\" class=\"dataframe\">\n",
              "  <thead>\n",
              "    <tr style=\"text-align: right;\">\n",
              "      <th></th>\n",
              "      <th>club</th>\n",
              "      <th>lost</th>\n",
              "      <th>deposit</th>\n",
              "      <th>all_clients</th>\n",
              "      <th>all_visits</th>\n",
              "      <th>lost_per_client</th>\n",
              "      <th>deposit_per_client</th>\n",
              "      <th>avg_visits</th>\n",
              "    </tr>\n",
              "  </thead>\n",
              "  <tbody>\n",
              "    <tr>\n",
              "      <th>212</th>\n",
              "      <td>1731</td>\n",
              "      <td>22774297</td>\n",
              "      <td>11738717</td>\n",
              "      <td>418</td>\n",
              "      <td>2075</td>\n",
              "      <td>54483.96</td>\n",
              "      <td>28083.06</td>\n",
              "      <td>4.96</td>\n",
              "    </tr>\n",
              "    <tr>\n",
              "      <th>191</th>\n",
              "      <td>1700</td>\n",
              "      <td>6052521</td>\n",
              "      <td>9094564</td>\n",
              "      <td>372</td>\n",
              "      <td>2085</td>\n",
              "      <td>16270.22</td>\n",
              "      <td>24447.75</td>\n",
              "      <td>5.60</td>\n",
              "    </tr>\n",
              "    <tr>\n",
              "      <th>153</th>\n",
              "      <td>1610</td>\n",
              "      <td>15129397</td>\n",
              "      <td>5427610</td>\n",
              "      <td>490</td>\n",
              "      <td>4062</td>\n",
              "      <td>30876.32</td>\n",
              "      <td>11076.76</td>\n",
              "      <td>8.29</td>\n",
              "    </tr>\n",
              "    <tr>\n",
              "      <th>41</th>\n",
              "      <td>1229</td>\n",
              "      <td>12306616</td>\n",
              "      <td>5009111</td>\n",
              "      <td>468</td>\n",
              "      <td>2432</td>\n",
              "      <td>26296.19</td>\n",
              "      <td>10703.23</td>\n",
              "      <td>5.20</td>\n",
              "    </tr>\n",
              "    <tr>\n",
              "      <th>189</th>\n",
              "      <td>1696</td>\n",
              "      <td>15392723</td>\n",
              "      <td>4446582</td>\n",
              "      <td>674</td>\n",
              "      <td>5183</td>\n",
              "      <td>22837.87</td>\n",
              "      <td>6597.30</td>\n",
              "      <td>7.69</td>\n",
              "    </tr>\n",
              "    <tr>\n",
              "      <th>376</th>\n",
              "      <td>99</td>\n",
              "      <td>2179298</td>\n",
              "      <td>3840333</td>\n",
              "      <td>187</td>\n",
              "      <td>1152</td>\n",
              "      <td>11654.00</td>\n",
              "      <td>20536.54</td>\n",
              "      <td>6.16</td>\n",
              "    </tr>\n",
              "    <tr>\n",
              "      <th>88</th>\n",
              "      <td>1408</td>\n",
              "      <td>765981</td>\n",
              "      <td>3611142</td>\n",
              "      <td>716</td>\n",
              "      <td>2166</td>\n",
              "      <td>1069.81</td>\n",
              "      <td>5043.49</td>\n",
              "      <td>3.03</td>\n",
              "    </tr>\n",
              "    <tr>\n",
              "      <th>73</th>\n",
              "      <td>1377</td>\n",
              "      <td>8014373</td>\n",
              "      <td>3312051</td>\n",
              "      <td>385</td>\n",
              "      <td>2535</td>\n",
              "      <td>20816.55</td>\n",
              "      <td>8602.73</td>\n",
              "      <td>6.58</td>\n",
              "    </tr>\n",
              "    <tr>\n",
              "      <th>21</th>\n",
              "      <td>1118</td>\n",
              "      <td>5055227</td>\n",
              "      <td>3241183</td>\n",
              "      <td>218</td>\n",
              "      <td>1243</td>\n",
              "      <td>23189.11</td>\n",
              "      <td>14867.81</td>\n",
              "      <td>5.70</td>\n",
              "    </tr>\n",
              "    <tr>\n",
              "      <th>293</th>\n",
              "      <td>25</td>\n",
              "      <td>7253811</td>\n",
              "      <td>3233525</td>\n",
              "      <td>444</td>\n",
              "      <td>2490</td>\n",
              "      <td>16337.41</td>\n",
              "      <td>7282.71</td>\n",
              "      <td>5.61</td>\n",
              "    </tr>\n",
              "  </tbody>\n",
              "</table>\n",
              "</div>"
            ],
            "text/plain": [
              "     club      lost   deposit  ...  lost_per_client  deposit_per_client  avg_visits\n",
              "212  1731  22774297  11738717  ...         54483.96            28083.06        4.96\n",
              "191  1700   6052521   9094564  ...         16270.22            24447.75        5.60\n",
              "153  1610  15129397   5427610  ...         30876.32            11076.76        8.29\n",
              "41   1229  12306616   5009111  ...         26296.19            10703.23        5.20\n",
              "189  1696  15392723   4446582  ...         22837.87             6597.30        7.69\n",
              "376    99   2179298   3840333  ...         11654.00            20536.54        6.16\n",
              "88   1408    765981   3611142  ...          1069.81             5043.49        3.03\n",
              "73   1377   8014373   3312051  ...         20816.55             8602.73        6.58\n",
              "21   1118   5055227   3241183  ...         23189.11            14867.81        5.70\n",
              "293    25   7253811   3233525  ...         16337.41             7282.71        5.61\n",
              "\n",
              "[10 rows x 8 columns]"
            ]
          },
          "metadata": {
            "tags": []
          },
          "execution_count": 133
        }
      ]
    },
    {
      "cell_type": "code",
      "metadata": {
        "colab": {
          "base_uri": "https://localhost:8080/",
          "height": 977
        },
        "id": "5fZ6IoopnsJY",
        "outputId": "03da6953-d8db-4500-fe48-ba772cd9507b"
      },
      "source": [
        "top10(data=top10_deposit_club, y=\"deposit_per_client\", x=\"club\")\n",
        "top10(data=top10_deposit_club, y=\"lost_per_client\", x=\"club\")"
      ],
      "execution_count": 134,
      "outputs": [
        {
          "output_type": "display_data",
          "data": {
            "image/png": "[encoded data removed]",
            "text/plain": [
              "<Figure size 1152x576 with 1 Axes>"
            ]
          },
          "metadata": {
            "tags": []
          }
        },
        {
          "output_type": "display_data",
          "data": {
            "image/png": "[encoded data removed]",
            "text/plain": [
              "<Figure size 1152x576 with 1 Axes>"
            ]
          },
          "metadata": {
            "tags": []
          }
        }
      ]
    },
    {
      "cell_type": "markdown",
      "metadata": {
        "id": "2wqVEmsvpIba"
      },
      "source": [
        "Клуб 1731 является самым популярным, прибыльным для компании и в нем люди берут больший депозит, нежели в других клубах. Посмотрим, какой клуб по прогнозному проигрышу будет самым актуальным для компании. Также изучим, в каких клубах прогнозный проигрыш будет самым низким."
      ]
    },
    {
      "cell_type": "code",
      "metadata": {
        "colab": {
          "base_uri": "https://localhost:8080/",
          "height": 359
        },
        "id": "Ho6o9t4m1VMA",
        "outputId": "7606b08b-d835-4de8-d970-685b28347f80"
      },
      "source": [
        "predict = clients.groupby('№ клуба')['Ожидаемый проигрыш'].sum().reset_index()\n",
        "predict.columns = ['club', 'predict_lost']\n",
        "predict_popular_clubs = popular_club.merge(predict, on='club').reset_index()\n",
        "predict_popular_clubs['predict_lost_per_client'] = (predict_popular_clubs['predict_lost']/predict_popular_clubs['all_clients']).round(2)\n",
        "predict_popular_clubs['predict_lost'] = predict_popular_clubs['predict_lost'].round(2)\n",
        "predict_popular_clubs_head = predict_popular_clubs.sort_values(by='predict_lost', ascending=False).head(10)\n",
        "predict_popular_clubs_head"
      ],
      "execution_count": 135,
      "outputs": [
        {
          "output_type": "execute_result",
          "data": {
            "text/html": [
              "<div>\n",
              "<style scoped>\n",
              "    .dataframe tbody tr th:only-of-type {\n",
              "        vertical-align: middle;\n",
              "    }\n",
              "\n",
              "    .dataframe tbody tr th {\n",
              "        vertical-align: top;\n",
              "    }\n",
              "\n",
              "    .dataframe thead th {\n",
              "        text-align: right;\n",
              "    }\n",
              "</style>\n",
              "<table border=\"1\" class=\"dataframe\">\n",
              "  <thead>\n",
              "    <tr style=\"text-align: right;\">\n",
              "      <th></th>\n",
              "      <th>index</th>\n",
              "      <th>club</th>\n",
              "      <th>lost</th>\n",
              "      <th>deposit</th>\n",
              "      <th>all_clients</th>\n",
              "      <th>all_visits</th>\n",
              "      <th>lost_per_client</th>\n",
              "      <th>deposit_per_client</th>\n",
              "      <th>avg_visits</th>\n",
              "      <th>predict_lost</th>\n",
              "      <th>predict_lost_per_client</th>\n",
              "    </tr>\n",
              "  </thead>\n",
              "  <tbody>\n",
              "    <tr>\n",
              "      <th>192</th>\n",
              "      <td>192</td>\n",
              "      <td>1701</td>\n",
              "      <td>24727132</td>\n",
              "      <td>2258083</td>\n",
              "      <td>737</td>\n",
              "      <td>3503</td>\n",
              "      <td>33551.06</td>\n",
              "      <td>3063.88</td>\n",
              "      <td>4.75</td>\n",
              "      <td>24129458.11</td>\n",
              "      <td>32740.11</td>\n",
              "    </tr>\n",
              "    <tr>\n",
              "      <th>212</th>\n",
              "      <td>212</td>\n",
              "      <td>1731</td>\n",
              "      <td>22774297</td>\n",
              "      <td>11738717</td>\n",
              "      <td>418</td>\n",
              "      <td>2075</td>\n",
              "      <td>54483.96</td>\n",
              "      <td>28083.06</td>\n",
              "      <td>4.96</td>\n",
              "      <td>21862777.96</td>\n",
              "      <td>52303.30</td>\n",
              "    </tr>\n",
              "    <tr>\n",
              "      <th>6</th>\n",
              "      <td>6</td>\n",
              "      <td>1035</td>\n",
              "      <td>10499879</td>\n",
              "      <td>2764041</td>\n",
              "      <td>172</td>\n",
              "      <td>685</td>\n",
              "      <td>61045.81</td>\n",
              "      <td>16070.01</td>\n",
              "      <td>3.98</td>\n",
              "      <td>15754788.60</td>\n",
              "      <td>91597.61</td>\n",
              "    </tr>\n",
              "    <tr>\n",
              "      <th>222</th>\n",
              "      <td>222</td>\n",
              "      <td>1747</td>\n",
              "      <td>15181146</td>\n",
              "      <td>1337432</td>\n",
              "      <td>257</td>\n",
              "      <td>1880</td>\n",
              "      <td>59070.61</td>\n",
              "      <td>5204.02</td>\n",
              "      <td>7.32</td>\n",
              "      <td>14544073.96</td>\n",
              "      <td>56591.73</td>\n",
              "    </tr>\n",
              "    <tr>\n",
              "      <th>153</th>\n",
              "      <td>153</td>\n",
              "      <td>1610</td>\n",
              "      <td>15129397</td>\n",
              "      <td>5427610</td>\n",
              "      <td>490</td>\n",
              "      <td>4062</td>\n",
              "      <td>30876.32</td>\n",
              "      <td>11076.76</td>\n",
              "      <td>8.29</td>\n",
              "      <td>13747651.94</td>\n",
              "      <td>28056.43</td>\n",
              "    </tr>\n",
              "    <tr>\n",
              "      <th>189</th>\n",
              "      <td>189</td>\n",
              "      <td>1696</td>\n",
              "      <td>15392723</td>\n",
              "      <td>4446582</td>\n",
              "      <td>674</td>\n",
              "      <td>5183</td>\n",
              "      <td>22837.87</td>\n",
              "      <td>6597.30</td>\n",
              "      <td>7.69</td>\n",
              "      <td>13663588.36</td>\n",
              "      <td>20272.39</td>\n",
              "    </tr>\n",
              "    <tr>\n",
              "      <th>142</th>\n",
              "      <td>142</td>\n",
              "      <td>1582</td>\n",
              "      <td>10953953</td>\n",
              "      <td>710910</td>\n",
              "      <td>162</td>\n",
              "      <td>1062</td>\n",
              "      <td>67616.99</td>\n",
              "      <td>4388.33</td>\n",
              "      <td>6.56</td>\n",
              "      <td>11647877.82</td>\n",
              "      <td>71900.48</td>\n",
              "    </tr>\n",
              "    <tr>\n",
              "      <th>220</th>\n",
              "      <td>220</td>\n",
              "      <td>1744</td>\n",
              "      <td>10734088</td>\n",
              "      <td>1400023</td>\n",
              "      <td>136</td>\n",
              "      <td>1078</td>\n",
              "      <td>78927.12</td>\n",
              "      <td>10294.29</td>\n",
              "      <td>7.93</td>\n",
              "      <td>11403341.22</td>\n",
              "      <td>83848.10</td>\n",
              "    </tr>\n",
              "    <tr>\n",
              "      <th>41</th>\n",
              "      <td>41</td>\n",
              "      <td>1229</td>\n",
              "      <td>12306616</td>\n",
              "      <td>5009111</td>\n",
              "      <td>468</td>\n",
              "      <td>2432</td>\n",
              "      <td>26296.19</td>\n",
              "      <td>10703.23</td>\n",
              "      <td>5.20</td>\n",
              "      <td>10596138.74</td>\n",
              "      <td>22641.32</td>\n",
              "    </tr>\n",
              "    <tr>\n",
              "      <th>207</th>\n",
              "      <td>207</td>\n",
              "      <td>1721</td>\n",
              "      <td>14897132</td>\n",
              "      <td>799258</td>\n",
              "      <td>158</td>\n",
              "      <td>1387</td>\n",
              "      <td>94285.65</td>\n",
              "      <td>5058.59</td>\n",
              "      <td>8.78</td>\n",
              "      <td>10517437.54</td>\n",
              "      <td>66566.06</td>\n",
              "    </tr>\n",
              "  </tbody>\n",
              "</table>\n",
              "</div>"
            ],
            "text/plain": [
              "     index  club      lost  ...  avg_visits  predict_lost  predict_lost_per_client\n",
              "192    192  1701  24727132  ...        4.75   24129458.11                 32740.11\n",
              "212    212  1731  22774297  ...        4.96   21862777.96                 52303.30\n",
              "6        6  1035  10499879  ...        3.98   15754788.60                 91597.61\n",
              "222    222  1747  15181146  ...        7.32   14544073.96                 56591.73\n",
              "153    153  1610  15129397  ...        8.29   13747651.94                 28056.43\n",
              "189    189  1696  15392723  ...        7.69   13663588.36                 20272.39\n",
              "142    142  1582  10953953  ...        6.56   11647877.82                 71900.48\n",
              "220    220  1744  10734088  ...        7.93   11403341.22                 83848.10\n",
              "41      41  1229  12306616  ...        5.20   10596138.74                 22641.32\n",
              "207    207  1721  14897132  ...        8.78   10517437.54                 66566.06\n",
              "\n",
              "[10 rows x 11 columns]"
            ]
          },
          "metadata": {
            "tags": []
          },
          "execution_count": 135
        }
      ]
    },
    {
      "cell_type": "code",
      "metadata": {
        "colab": {
          "base_uri": "https://localhost:8080/",
          "height": 359
        },
        "id": "OafPdXfD6hix",
        "outputId": "c0d160c8-8e69-4f16-ac22-97a485a8c123"
      },
      "source": [
        "predict_clubs_head = predict_popular_clubs.sort_values(by='predict_lost_per_client', ascending=False).head(10)\n",
        "predict_clubs_head"
      ],
      "execution_count": 136,
      "outputs": [
        {
          "output_type": "execute_result",
          "data": {
            "text/html": [
              "<div>\n",
              "<style scoped>\n",
              "    .dataframe tbody tr th:only-of-type {\n",
              "        vertical-align: middle;\n",
              "    }\n",
              "\n",
              "    .dataframe tbody tr th {\n",
              "        vertical-align: top;\n",
              "    }\n",
              "\n",
              "    .dataframe thead th {\n",
              "        text-align: right;\n",
              "    }\n",
              "</style>\n",
              "<table border=\"1\" class=\"dataframe\">\n",
              "  <thead>\n",
              "    <tr style=\"text-align: right;\">\n",
              "      <th></th>\n",
              "      <th>index</th>\n",
              "      <th>club</th>\n",
              "      <th>lost</th>\n",
              "      <th>deposit</th>\n",
              "      <th>all_clients</th>\n",
              "      <th>all_visits</th>\n",
              "      <th>lost_per_client</th>\n",
              "      <th>deposit_per_client</th>\n",
              "      <th>avg_visits</th>\n",
              "      <th>predict_lost</th>\n",
              "      <th>predict_lost_per_client</th>\n",
              "    </tr>\n",
              "  </thead>\n",
              "  <tbody>\n",
              "    <tr>\n",
              "      <th>6</th>\n",
              "      <td>6</td>\n",
              "      <td>1035</td>\n",
              "      <td>10499879</td>\n",
              "      <td>2764041</td>\n",
              "      <td>172</td>\n",
              "      <td>685</td>\n",
              "      <td>61045.81</td>\n",
              "      <td>16070.01</td>\n",
              "      <td>3.98</td>\n",
              "      <td>15754788.60</td>\n",
              "      <td>91597.61</td>\n",
              "    </tr>\n",
              "    <tr>\n",
              "      <th>220</th>\n",
              "      <td>220</td>\n",
              "      <td>1744</td>\n",
              "      <td>10734088</td>\n",
              "      <td>1400023</td>\n",
              "      <td>136</td>\n",
              "      <td>1078</td>\n",
              "      <td>78927.12</td>\n",
              "      <td>10294.29</td>\n",
              "      <td>7.93</td>\n",
              "      <td>11403341.22</td>\n",
              "      <td>83848.10</td>\n",
              "    </tr>\n",
              "    <tr>\n",
              "      <th>142</th>\n",
              "      <td>142</td>\n",
              "      <td>1582</td>\n",
              "      <td>10953953</td>\n",
              "      <td>710910</td>\n",
              "      <td>162</td>\n",
              "      <td>1062</td>\n",
              "      <td>67616.99</td>\n",
              "      <td>4388.33</td>\n",
              "      <td>6.56</td>\n",
              "      <td>11647877.82</td>\n",
              "      <td>71900.48</td>\n",
              "    </tr>\n",
              "    <tr>\n",
              "      <th>207</th>\n",
              "      <td>207</td>\n",
              "      <td>1721</td>\n",
              "      <td>14897132</td>\n",
              "      <td>799258</td>\n",
              "      <td>158</td>\n",
              "      <td>1387</td>\n",
              "      <td>94285.65</td>\n",
              "      <td>5058.59</td>\n",
              "      <td>8.78</td>\n",
              "      <td>10517437.54</td>\n",
              "      <td>66566.06</td>\n",
              "    </tr>\n",
              "    <tr>\n",
              "      <th>228</th>\n",
              "      <td>228</td>\n",
              "      <td>1756</td>\n",
              "      <td>3644091</td>\n",
              "      <td>1056081</td>\n",
              "      <td>88</td>\n",
              "      <td>1290</td>\n",
              "      <td>41410.12</td>\n",
              "      <td>12000.92</td>\n",
              "      <td>14.66</td>\n",
              "      <td>5173961.12</td>\n",
              "      <td>58795.01</td>\n",
              "    </tr>\n",
              "    <tr>\n",
              "      <th>222</th>\n",
              "      <td>222</td>\n",
              "      <td>1747</td>\n",
              "      <td>15181146</td>\n",
              "      <td>1337432</td>\n",
              "      <td>257</td>\n",
              "      <td>1880</td>\n",
              "      <td>59070.61</td>\n",
              "      <td>5204.02</td>\n",
              "      <td>7.32</td>\n",
              "      <td>14544073.96</td>\n",
              "      <td>56591.73</td>\n",
              "    </tr>\n",
              "    <tr>\n",
              "      <th>212</th>\n",
              "      <td>212</td>\n",
              "      <td>1731</td>\n",
              "      <td>22774297</td>\n",
              "      <td>11738717</td>\n",
              "      <td>418</td>\n",
              "      <td>2075</td>\n",
              "      <td>54483.96</td>\n",
              "      <td>28083.06</td>\n",
              "      <td>4.96</td>\n",
              "      <td>21862777.96</td>\n",
              "      <td>52303.30</td>\n",
              "    </tr>\n",
              "    <tr>\n",
              "      <th>18</th>\n",
              "      <td>18</td>\n",
              "      <td>1108</td>\n",
              "      <td>4142957</td>\n",
              "      <td>1176898</td>\n",
              "      <td>93</td>\n",
              "      <td>833</td>\n",
              "      <td>44547.92</td>\n",
              "      <td>12654.82</td>\n",
              "      <td>8.96</td>\n",
              "      <td>3971343.24</td>\n",
              "      <td>42702.62</td>\n",
              "    </tr>\n",
              "    <tr>\n",
              "      <th>336</th>\n",
              "      <td>336</td>\n",
              "      <td>671</td>\n",
              "      <td>3244511</td>\n",
              "      <td>962087</td>\n",
              "      <td>69</td>\n",
              "      <td>651</td>\n",
              "      <td>47021.90</td>\n",
              "      <td>13943.29</td>\n",
              "      <td>9.43</td>\n",
              "      <td>2845793.28</td>\n",
              "      <td>41243.38</td>\n",
              "    </tr>\n",
              "    <tr>\n",
              "      <th>80</th>\n",
              "      <td>80</td>\n",
              "      <td>1390</td>\n",
              "      <td>2632211</td>\n",
              "      <td>238602</td>\n",
              "      <td>67</td>\n",
              "      <td>1076</td>\n",
              "      <td>39286.73</td>\n",
              "      <td>3561.22</td>\n",
              "      <td>16.06</td>\n",
              "      <td>2544271.44</td>\n",
              "      <td>37974.20</td>\n",
              "    </tr>\n",
              "  </tbody>\n",
              "</table>\n",
              "</div>"
            ],
            "text/plain": [
              "     index  club      lost  ...  avg_visits  predict_lost  predict_lost_per_client\n",
              "6        6  1035  10499879  ...        3.98   15754788.60                 91597.61\n",
              "220    220  1744  10734088  ...        7.93   11403341.22                 83848.10\n",
              "142    142  1582  10953953  ...        6.56   11647877.82                 71900.48\n",
              "207    207  1721  14897132  ...        8.78   10517437.54                 66566.06\n",
              "228    228  1756   3644091  ...       14.66    5173961.12                 58795.01\n",
              "222    222  1747  15181146  ...        7.32   14544073.96                 56591.73\n",
              "212    212  1731  22774297  ...        4.96   21862777.96                 52303.30\n",
              "18      18  1108   4142957  ...        8.96    3971343.24                 42702.62\n",
              "336    336   671   3244511  ...        9.43    2845793.28                 41243.38\n",
              "80      80  1390   2632211  ...       16.06    2544271.44                 37974.20\n",
              "\n",
              "[10 rows x 11 columns]"
            ]
          },
          "metadata": {
            "tags": []
          },
          "execution_count": 136
        }
      ]
    },
    {
      "cell_type": "markdown",
      "metadata": {
        "id": "i8k_Btja54Y2"
      },
      "source": [
        "Максимальный суммарный проигрыш, превышающий 21 млн., ожидается в клубах 1701, 1731. Но по проигрышу в расчете на одного гостя - наиболее выгодными являются клубы 1035, 1744 и 1582 - в них проигрыш на клиента превышает 70 тысяч. Клуб 1701 не вошел в десять самых \"проигрывающих\" клубов в расчете на клиента. Посмотрим на диаграмме на распределение прогнозных проигрышей на одного клиента в клубах с самым большим суммарным прогнозным проигрышем."
      ]
    },
    {
      "cell_type": "code",
      "metadata": {
        "colab": {
          "base_uri": "https://localhost:8080/",
          "height": 498
        },
        "id": "ZqNA0vfd3wys",
        "outputId": "f65fffff-d314-4414-82f2-0550e28d7a2e"
      },
      "source": [
        "top10(data=predict_popular_clubs_head, x=\"predict_lost_per_client\", y=\"club\")"
      ],
      "execution_count": 137,
      "outputs": [
        {
          "output_type": "display_data",
          "data": {
            "image/png": "[encoded data removed]",
            "text/plain": [
              "<Figure size 1152x576 with 1 Axes>"
            ]
          },
          "metadata": {
            "tags": []
          }
        }
      ]
    },
    {
      "cell_type": "code",
      "metadata": {
        "colab": {
          "base_uri": "https://localhost:8080/",
          "height": 840
        },
        "id": "4r6oH42zcZih",
        "outputId": "3b2e7933-c7c9-47c3-e1aa-6d558ba145ed"
      },
      "source": [
        "predict_popular_clubs_tail = predict_popular_clubs.sort_values(by='predict_lost', ascending=False).tail(10)\n",
        "display(predict_popular_clubs_tail)\n",
        "top10(data=predict_popular_clubs_tail.query('predict_lost_per_client > 0'), x=\"predict_lost_per_client\", y=\"club\")"
      ],
      "execution_count": 138,
      "outputs": [
        {
          "output_type": "display_data",
          "data": {
            "text/html": [
              "<div>\n",
              "<style scoped>\n",
              "    .dataframe tbody tr th:only-of-type {\n",
              "        vertical-align: middle;\n",
              "    }\n",
              "\n",
              "    .dataframe tbody tr th {\n",
              "        vertical-align: top;\n",
              "    }\n",
              "\n",
              "    .dataframe thead th {\n",
              "        text-align: right;\n",
              "    }\n",
              "</style>\n",
              "<table border=\"1\" class=\"dataframe\">\n",
              "  <thead>\n",
              "    <tr style=\"text-align: right;\">\n",
              "      <th></th>\n",
              "      <th>index</th>\n",
              "      <th>club</th>\n",
              "      <th>lost</th>\n",
              "      <th>deposit</th>\n",
              "      <th>all_clients</th>\n",
              "      <th>all_visits</th>\n",
              "      <th>lost_per_client</th>\n",
              "      <th>deposit_per_client</th>\n",
              "      <th>avg_visits</th>\n",
              "      <th>predict_lost</th>\n",
              "      <th>predict_lost_per_client</th>\n",
              "    </tr>\n",
              "  </thead>\n",
              "  <tbody>\n",
              "    <tr>\n",
              "      <th>239</th>\n",
              "      <td>239</td>\n",
              "      <td>1772</td>\n",
              "      <td>37598</td>\n",
              "      <td>32085</td>\n",
              "      <td>16</td>\n",
              "      <td>28</td>\n",
              "      <td>2349.88</td>\n",
              "      <td>2005.31</td>\n",
              "      <td>1.75</td>\n",
              "      <td>26433.22</td>\n",
              "      <td>1652.08</td>\n",
              "    </tr>\n",
              "    <tr>\n",
              "      <th>246</th>\n",
              "      <td>246</td>\n",
              "      <td>1785</td>\n",
              "      <td>34753</td>\n",
              "      <td>57900</td>\n",
              "      <td>3</td>\n",
              "      <td>23</td>\n",
              "      <td>11584.33</td>\n",
              "      <td>19300.00</td>\n",
              "      <td>7.67</td>\n",
              "      <td>25380.72</td>\n",
              "      <td>8460.24</td>\n",
              "    </tr>\n",
              "    <tr>\n",
              "      <th>38</th>\n",
              "      <td>38</td>\n",
              "      <td>1224</td>\n",
              "      <td>56800</td>\n",
              "      <td>42469</td>\n",
              "      <td>8</td>\n",
              "      <td>21</td>\n",
              "      <td>7100.00</td>\n",
              "      <td>5308.62</td>\n",
              "      <td>2.62</td>\n",
              "      <td>25025.29</td>\n",
              "      <td>3128.16</td>\n",
              "    </tr>\n",
              "    <tr>\n",
              "      <th>267</th>\n",
              "      <td>267</td>\n",
              "      <td>1826</td>\n",
              "      <td>67875</td>\n",
              "      <td>97037</td>\n",
              "      <td>41</td>\n",
              "      <td>84</td>\n",
              "      <td>1655.49</td>\n",
              "      <td>2366.76</td>\n",
              "      <td>2.05</td>\n",
              "      <td>22746.85</td>\n",
              "      <td>554.80</td>\n",
              "    </tr>\n",
              "    <tr>\n",
              "      <th>282</th>\n",
              "      <td>282</td>\n",
              "      <td>1881</td>\n",
              "      <td>71409</td>\n",
              "      <td>61882</td>\n",
              "      <td>18</td>\n",
              "      <td>47</td>\n",
              "      <td>3967.17</td>\n",
              "      <td>3437.89</td>\n",
              "      <td>2.61</td>\n",
              "      <td>21938.11</td>\n",
              "      <td>1218.78</td>\n",
              "    </tr>\n",
              "    <tr>\n",
              "      <th>368</th>\n",
              "      <td>368</td>\n",
              "      <td>958</td>\n",
              "      <td>33557</td>\n",
              "      <td>9765</td>\n",
              "      <td>4</td>\n",
              "      <td>18</td>\n",
              "      <td>8389.25</td>\n",
              "      <td>2441.25</td>\n",
              "      <td>4.50</td>\n",
              "      <td>17461.22</td>\n",
              "      <td>4365.30</td>\n",
              "    </tr>\n",
              "    <tr>\n",
              "      <th>335</th>\n",
              "      <td>335</td>\n",
              "      <td>657</td>\n",
              "      <td>-131958</td>\n",
              "      <td>157692</td>\n",
              "      <td>11</td>\n",
              "      <td>27</td>\n",
              "      <td>-11996.18</td>\n",
              "      <td>14335.64</td>\n",
              "      <td>2.45</td>\n",
              "      <td>15375.12</td>\n",
              "      <td>1397.74</td>\n",
              "    </tr>\n",
              "    <tr>\n",
              "      <th>132</th>\n",
              "      <td>132</td>\n",
              "      <td>1544</td>\n",
              "      <td>11571</td>\n",
              "      <td>23629</td>\n",
              "      <td>21</td>\n",
              "      <td>54</td>\n",
              "      <td>551.00</td>\n",
              "      <td>1125.19</td>\n",
              "      <td>2.57</td>\n",
              "      <td>6427.10</td>\n",
              "      <td>306.05</td>\n",
              "    </tr>\n",
              "    <tr>\n",
              "      <th>254</th>\n",
              "      <td>254</td>\n",
              "      <td>1804</td>\n",
              "      <td>0</td>\n",
              "      <td>10150</td>\n",
              "      <td>2</td>\n",
              "      <td>2</td>\n",
              "      <td>0.00</td>\n",
              "      <td>5075.00</td>\n",
              "      <td>1.00</td>\n",
              "      <td>0.00</td>\n",
              "      <td>0.00</td>\n",
              "    </tr>\n",
              "    <tr>\n",
              "      <th>227</th>\n",
              "      <td>227</td>\n",
              "      <td>1755</td>\n",
              "      <td>0</td>\n",
              "      <td>11280</td>\n",
              "      <td>2</td>\n",
              "      <td>2</td>\n",
              "      <td>0.00</td>\n",
              "      <td>5640.00</td>\n",
              "      <td>1.00</td>\n",
              "      <td>0.00</td>\n",
              "      <td>0.00</td>\n",
              "    </tr>\n",
              "  </tbody>\n",
              "</table>\n",
              "</div>"
            ],
            "text/plain": [
              "     index  club    lost  ...  avg_visits  predict_lost  predict_lost_per_client\n",
              "239    239  1772   37598  ...        1.75      26433.22                  1652.08\n",
              "246    246  1785   34753  ...        7.67      25380.72                  8460.24\n",
              "38      38  1224   56800  ...        2.62      25025.29                  3128.16\n",
              "267    267  1826   67875  ...        2.05      22746.85                   554.80\n",
              "282    282  1881   71409  ...        2.61      21938.11                  1218.78\n",
              "368    368   958   33557  ...        4.50      17461.22                  4365.30\n",
              "335    335   657 -131958  ...        2.45      15375.12                  1397.74\n",
              "132    132  1544   11571  ...        2.57       6427.10                   306.05\n",
              "254    254  1804       0  ...        1.00          0.00                     0.00\n",
              "227    227  1755       0  ...        1.00          0.00                     0.00\n",
              "\n",
              "[10 rows x 11 columns]"
            ]
          },
          "metadata": {
            "tags": []
          }
        },
        {
          "output_type": "display_data",
          "data": {
            "image/png": "[encoded data removed]",
            "text/plain": [
              "<Figure size 1152x576 with 1 Axes>"
            ]
          },
          "metadata": {
            "tags": []
          }
        }
      ]
    },
    {
      "cell_type": "markdown",
      "metadata": {
        "id": "zbyUFsiC1AaU"
      },
      "source": [
        "Самыми выгодными для развития в рамках компании являются клубы 1731, 1701, 1610 и 1035. Стоит также изучить месторасположение этих клубов и их условия. Возможно в этих клубах сделан свежий ремонт и они находятся в районах с большей проходимостью.\n",
        "\n",
        "Наименее интересные для компании клубы: 1544, 1826 - там прогнозный проигрыш меньше тысячи. Также есть два клуба(1804 и 1755), в которых было по одному визиту у двух гостей и прогнозный проигрыш равен 0.\n",
        "\n",
        "**[Изучение выручки компании](#profit)**\n",
        "\n",
        "Посчитаем выручку компании, которую она получила за первые посещения гостей, исходя из имеющейся информации о проигрышах."
      ]
    },
    {
      "cell_type": "code",
      "metadata": {
        "colab": {
          "base_uri": "https://localhost:8080/",
          "height": 359
        },
        "id": "aeSBv0OWp1rV",
        "outputId": "d3acdeed-b6c1-4607-b36a-279d1dee5d87"
      },
      "source": [
        "profit_table = pd.DataFrame(clients.groupby('№ клуба').agg({'Проигрыш (первое посещение)':'sum', 'Ставки за бонусы (первое посещение)':'sum','ID':'count', 'all_visits':'sum'}).reset_index())\n",
        "profit_table['profit'] = profit_table['Проигрыш (первое посещение)'] - profit_table['Ставки за бонусы (первое посещение)']\n",
        "profit_table['profit_per_client'] = (profit_table['profit'] / profit_table['ID']).round(2)\n",
        "profit_head = profit_table.sort_values(by='profit_per_client', ascending=False).head(10)\n",
        "profit_head"
      ],
      "execution_count": 139,
      "outputs": [
        {
          "output_type": "execute_result",
          "data": {
            "text/html": [
              "<div>\n",
              "<style scoped>\n",
              "    .dataframe tbody tr th:only-of-type {\n",
              "        vertical-align: middle;\n",
              "    }\n",
              "\n",
              "    .dataframe tbody tr th {\n",
              "        vertical-align: top;\n",
              "    }\n",
              "\n",
              "    .dataframe thead th {\n",
              "        text-align: right;\n",
              "    }\n",
              "</style>\n",
              "<table border=\"1\" class=\"dataframe\">\n",
              "  <thead>\n",
              "    <tr style=\"text-align: right;\">\n",
              "      <th></th>\n",
              "      <th>№ клуба</th>\n",
              "      <th>Проигрыш (первое посещение)</th>\n",
              "      <th>Ставки за бонусы (первое посещение)</th>\n",
              "      <th>ID</th>\n",
              "      <th>all_visits</th>\n",
              "      <th>profit</th>\n",
              "      <th>profit_per_client</th>\n",
              "    </tr>\n",
              "  </thead>\n",
              "  <tbody>\n",
              "    <tr>\n",
              "      <th>212</th>\n",
              "      <td>1731</td>\n",
              "      <td>1.030789e+07</td>\n",
              "      <td>232425</td>\n",
              "      <td>418</td>\n",
              "      <td>2075</td>\n",
              "      <td>1.007546e+07</td>\n",
              "      <td>24103.98</td>\n",
              "    </tr>\n",
              "    <tr>\n",
              "      <th>338</th>\n",
              "      <td>70</td>\n",
              "      <td>8.953265e+05</td>\n",
              "      <td>5400</td>\n",
              "      <td>49</td>\n",
              "      <td>357</td>\n",
              "      <td>8.899265e+05</td>\n",
              "      <td>18161.77</td>\n",
              "    </tr>\n",
              "    <tr>\n",
              "      <th>22</th>\n",
              "      <td>115</td>\n",
              "      <td>4.415320e+05</td>\n",
              "      <td>5650</td>\n",
              "      <td>29</td>\n",
              "      <td>69</td>\n",
              "      <td>4.358820e+05</td>\n",
              "      <td>15030.41</td>\n",
              "    </tr>\n",
              "    <tr>\n",
              "      <th>335</th>\n",
              "      <td>657</td>\n",
              "      <td>1.545925e+05</td>\n",
              "      <td>750</td>\n",
              "      <td>11</td>\n",
              "      <td>27</td>\n",
              "      <td>1.538425e+05</td>\n",
              "      <td>13985.68</td>\n",
              "    </tr>\n",
              "    <tr>\n",
              "      <th>61</th>\n",
              "      <td>1326</td>\n",
              "      <td>1.011242e+06</td>\n",
              "      <td>9550</td>\n",
              "      <td>84</td>\n",
              "      <td>544</td>\n",
              "      <td>1.001692e+06</td>\n",
              "      <td>11924.90</td>\n",
              "    </tr>\n",
              "    <tr>\n",
              "      <th>327</th>\n",
              "      <td>6</td>\n",
              "      <td>7.570849e+05</td>\n",
              "      <td>15900</td>\n",
              "      <td>80</td>\n",
              "      <td>390</td>\n",
              "      <td>7.411849e+05</td>\n",
              "      <td>9264.81</td>\n",
              "    </tr>\n",
              "    <tr>\n",
              "      <th>314</th>\n",
              "      <td>469</td>\n",
              "      <td>5.436577e+05</td>\n",
              "      <td>7000</td>\n",
              "      <td>59</td>\n",
              "      <td>209</td>\n",
              "      <td>5.366577e+05</td>\n",
              "      <td>9095.89</td>\n",
              "    </tr>\n",
              "    <tr>\n",
              "      <th>87</th>\n",
              "      <td>1405</td>\n",
              "      <td>6.597152e+05</td>\n",
              "      <td>2100</td>\n",
              "      <td>74</td>\n",
              "      <td>609</td>\n",
              "      <td>6.576152e+05</td>\n",
              "      <td>8886.69</td>\n",
              "    </tr>\n",
              "    <tr>\n",
              "      <th>17</th>\n",
              "      <td>11</td>\n",
              "      <td>1.292799e+06</td>\n",
              "      <td>45700</td>\n",
              "      <td>148</td>\n",
              "      <td>587</td>\n",
              "      <td>1.247099e+06</td>\n",
              "      <td>8426.35</td>\n",
              "    </tr>\n",
              "    <tr>\n",
              "      <th>18</th>\n",
              "      <td>1108</td>\n",
              "      <td>7.899464e+05</td>\n",
              "      <td>15500</td>\n",
              "      <td>93</td>\n",
              "      <td>833</td>\n",
              "      <td>7.744464e+05</td>\n",
              "      <td>8327.38</td>\n",
              "    </tr>\n",
              "  </tbody>\n",
              "</table>\n",
              "</div>"
            ],
            "text/plain": [
              "    № клуба  Проигрыш (первое посещение)  ...        profit  profit_per_client\n",
              "212    1731                 1.030789e+07  ...  1.007546e+07           24103.98\n",
              "338      70                 8.953265e+05  ...  8.899265e+05           18161.77\n",
              "22      115                 4.415320e+05  ...  4.358820e+05           15030.41\n",
              "335     657                 1.545925e+05  ...  1.538425e+05           13985.68\n",
              "61     1326                 1.011242e+06  ...  1.001692e+06           11924.90\n",
              "327       6                 7.570849e+05  ...  7.411849e+05            9264.81\n",
              "314     469                 5.436577e+05  ...  5.366577e+05            9095.89\n",
              "87     1405                 6.597152e+05  ...  6.576152e+05            8886.69\n",
              "17       11                 1.292799e+06  ...  1.247099e+06            8426.35\n",
              "18     1108                 7.899464e+05  ...  7.744464e+05            8327.38\n",
              "\n",
              "[10 rows x 7 columns]"
            ]
          },
          "metadata": {
            "tags": []
          },
          "execution_count": 139
        }
      ]
    },
    {
      "cell_type": "code",
      "metadata": {
        "colab": {
          "base_uri": "https://localhost:8080/",
          "height": 498
        },
        "id": "9LdeirxwuNyf",
        "outputId": "a5a7c459-5240-4400-dab0-d919c0fa692e"
      },
      "source": [
        "top10(data=profit_head, y=\"№ клуба\", x=\"profit_per_client\")"
      ],
      "execution_count": 140,
      "outputs": [
        {
          "output_type": "display_data",
          "data": {
            "image/png": "[encoded data removed]",
            "text/plain": [
              "<Figure size 1152x576 with 1 Axes>"
            ]
          },
          "metadata": {
            "tags": []
          }
        }
      ]
    },
    {
      "cell_type": "markdown",
      "metadata": {
        "id": "T_M1hyXHx-pG"
      },
      "source": [
        "Самый эффективный клуб для компании по показаетлю выручки с первого посещения на одного гостя - клуб 1731, в нем средний доход компании с одного гостя составил 24 тысячи. В этом же клубе, как было выявлено ранее, много гостей и визитов. Посмотрим, как показатель выручки распределился по месяцам."
      ]
    },
    {
      "cell_type": "code",
      "metadata": {
        "colab": {
          "base_uri": "https://localhost:8080/",
          "height": 328
        },
        "id": "3x65b-xC0Dux",
        "outputId": "52f03cde-4fc1-4a8e-9801-686d4a94c3cf"
      },
      "source": [
        "profit_table_monthly = pd.DataFrame(clients.groupby('last_visit_month').agg({'Проигрыш (первое посещение)':'sum', 'Ставки за бонусы (первое посещение)':'sum','ID':'count', 'all_visits':'sum'}).reset_index())\n",
        "profit_table_monthly['profit'] = profit_table_monthly['Проигрыш (первое посещение)'] - profit_table_monthly['Ставки за бонусы (первое посещение)']\n",
        "profit_table_monthly['profit_per_client'] = (profit_table_monthly['profit'] / profit_table_monthly['ID']).round(2)\n",
        "profit_table_monthly_head = profit_table_monthly.sort_values(by='last_visit_month', ascending=False).head(10)\n",
        "display(profit_table_monthly_head)"
      ],
      "execution_count": 141,
      "outputs": [
        {
          "output_type": "display_data",
          "data": {
            "text/html": [
              "<div>\n",
              "<style scoped>\n",
              "    .dataframe tbody tr th:only-of-type {\n",
              "        vertical-align: middle;\n",
              "    }\n",
              "\n",
              "    .dataframe tbody tr th {\n",
              "        vertical-align: top;\n",
              "    }\n",
              "\n",
              "    .dataframe thead th {\n",
              "        text-align: right;\n",
              "    }\n",
              "</style>\n",
              "<table border=\"1\" class=\"dataframe\">\n",
              "  <thead>\n",
              "    <tr style=\"text-align: right;\">\n",
              "      <th></th>\n",
              "      <th>last_visit_month</th>\n",
              "      <th>Проигрыш (первое посещение)</th>\n",
              "      <th>Ставки за бонусы (первое посещение)</th>\n",
              "      <th>ID</th>\n",
              "      <th>all_visits</th>\n",
              "      <th>profit</th>\n",
              "      <th>profit_per_client</th>\n",
              "    </tr>\n",
              "  </thead>\n",
              "  <tbody>\n",
              "    <tr>\n",
              "      <th>8</th>\n",
              "      <td>2021-03</td>\n",
              "      <td>3.141078e+07</td>\n",
              "      <td>4003600</td>\n",
              "      <td>12123</td>\n",
              "      <td>191907</td>\n",
              "      <td>2.740718e+07</td>\n",
              "      <td>2260.76</td>\n",
              "    </tr>\n",
              "    <tr>\n",
              "      <th>7</th>\n",
              "      <td>2021-02</td>\n",
              "      <td>7.409788e+06</td>\n",
              "      <td>5611810</td>\n",
              "      <td>14132</td>\n",
              "      <td>69852</td>\n",
              "      <td>1.797978e+06</td>\n",
              "      <td>127.23</td>\n",
              "    </tr>\n",
              "    <tr>\n",
              "      <th>6</th>\n",
              "      <td>2021-01</td>\n",
              "      <td>1.004132e+07</td>\n",
              "      <td>4690020</td>\n",
              "      <td>11108</td>\n",
              "      <td>37156</td>\n",
              "      <td>5.351300e+06</td>\n",
              "      <td>481.75</td>\n",
              "    </tr>\n",
              "    <tr>\n",
              "      <th>5</th>\n",
              "      <td>2020-12</td>\n",
              "      <td>7.101087e+06</td>\n",
              "      <td>4022010</td>\n",
              "      <td>10138</td>\n",
              "      <td>30408</td>\n",
              "      <td>3.079077e+06</td>\n",
              "      <td>303.72</td>\n",
              "    </tr>\n",
              "    <tr>\n",
              "      <th>4</th>\n",
              "      <td>2020-11</td>\n",
              "      <td>8.542711e+06</td>\n",
              "      <td>3135805</td>\n",
              "      <td>8815</td>\n",
              "      <td>22835</td>\n",
              "      <td>5.406906e+06</td>\n",
              "      <td>613.38</td>\n",
              "    </tr>\n",
              "    <tr>\n",
              "      <th>3</th>\n",
              "      <td>2020-10</td>\n",
              "      <td>1.371372e+07</td>\n",
              "      <td>2626580</td>\n",
              "      <td>9099</td>\n",
              "      <td>20629</td>\n",
              "      <td>1.108714e+07</td>\n",
              "      <td>1218.50</td>\n",
              "    </tr>\n",
              "    <tr>\n",
              "      <th>2</th>\n",
              "      <td>2020-09</td>\n",
              "      <td>7.356422e+06</td>\n",
              "      <td>2418290</td>\n",
              "      <td>7817</td>\n",
              "      <td>15738</td>\n",
              "      <td>4.938132e+06</td>\n",
              "      <td>631.72</td>\n",
              "    </tr>\n",
              "    <tr>\n",
              "      <th>1</th>\n",
              "      <td>2020-08</td>\n",
              "      <td>6.952262e+06</td>\n",
              "      <td>1593975</td>\n",
              "      <td>6330</td>\n",
              "      <td>10885</td>\n",
              "      <td>5.358287e+06</td>\n",
              "      <td>846.49</td>\n",
              "    </tr>\n",
              "    <tr>\n",
              "      <th>0</th>\n",
              "      <td>2020-07</td>\n",
              "      <td>3.941110e+06</td>\n",
              "      <td>833295</td>\n",
              "      <td>3476</td>\n",
              "      <td>4616</td>\n",
              "      <td>3.107815e+06</td>\n",
              "      <td>894.08</td>\n",
              "    </tr>\n",
              "  </tbody>\n",
              "</table>\n",
              "</div>"
            ],
            "text/plain": [
              "  last_visit_month  ...  profit_per_client\n",
              "8          2021-03  ...            2260.76\n",
              "7          2021-02  ...             127.23\n",
              "6          2021-01  ...             481.75\n",
              "5          2020-12  ...             303.72\n",
              "4          2020-11  ...             613.38\n",
              "3          2020-10  ...            1218.50\n",
              "2          2020-09  ...             631.72\n",
              "1          2020-08  ...             846.49\n",
              "0          2020-07  ...             894.08\n",
              "\n",
              "[9 rows x 7 columns]"
            ]
          },
          "metadata": {
            "tags": []
          }
        }
      ]
    },
    {
      "cell_type": "code",
      "metadata": {
        "colab": {
          "base_uri": "https://localhost:8080/",
          "height": 405
        },
        "id": "i_99QdPZRY0_",
        "outputId": "b0d7bd8e-4660-4798-b34b-e0ec9fcc068f"
      },
      "source": [
        "(profit_table_monthly_head\n",
        "     .pivot_table(index='last_visit_month', values='profit_per_client')\n",
        "     .plot(figsize=(16,6), title=\"Помесячный доход компании с новых клиентов\", ylim=(0, 3000))\n",
        ");"
      ],
      "execution_count": 142,
      "outputs": [
        {
          "output_type": "display_data",
          "data": {
            "image/png": "[encoded data removed]",
            "text/plain": [
              "<Figure size 1152x432 with 1 Axes>"
            ]
          },
          "metadata": {
            "tags": []
          }
        }
      ]
    },
    {
      "cell_type": "markdown",
      "metadata": {
        "id": "Empj8ErxT4Vp"
      },
      "source": [
        "Максимальный доход компании был в марте 2021, минамальный - в феврале этого же года. Заметен сильный спад доходов компании с октября 2020 года. Возможно это связано с тем, что в этот период не было никаких спортивных событий.\n",
        "\n",
        "##[Вывод и рекомендации](#conclusion)\n",
        "  - Посещения гостей клуба обычно носят не очень регулярный характер: за 9 месяцев гости в основном приходили 1-5 раз и только 10% совершили больше 10 визитов за этот период. Половина всех гостей клуба не приходит повторно. \n",
        "  - Количество визитов росло ежемесячно, в марте 2021 рост был очень резким и достиг пикового значения. При этом количество клиентов росло более стабильно и пик был в феврале 2021 Скорее всего на рост визитов повлияли Чемпионаты, проводившиеся в это время, а именно: биатлон, лыжные гонки и фигурное катание.\n",
        "  - В среднем один гость тратит 344 руб. бонусов на ставки. Максмально гости тратили бонусы с декабря по февраль, т.к. скорее всего в тот период были начислены новогодние бонусы. Но бонусы не сказались на выручке компании так что возможно стоит пересмотреть систему бонусов и начислять их только от определенной суммы и, например, только постоянным посетителям.\n",
        "  - Самыми выгодными для развития в рамках компании являются клубы 1731, 1701, 1610 и 1035. Необходимо детально изучить информацию об этих клубах.\n",
        "  - Наименее интересные для компании клубы: 1544, 1826, 1804 и 1755. Необходимо также изучить информацию об этих клубах, т.к. возможно для компании окажется более выгодным закрытие этих точек.\n",
        "  - В среднем максимальный доход компании с одного нового гостя был в маре 2021 и составил 2261 руб., минимальный - 127 руб. в феврале 2021.\n",
        "  - Самый эффективный клуб для компании - клуб 1731, в нем средний доход компании с одного нового гостя составил 24 тысячи, а также в нем много посетителей и визитов.\n"
      ]
    }
  ]
}